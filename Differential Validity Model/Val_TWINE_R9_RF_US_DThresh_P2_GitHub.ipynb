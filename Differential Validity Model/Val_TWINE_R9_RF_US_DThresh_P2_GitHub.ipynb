{
  "nbformat": 4,
  "nbformat_minor": 0,
  "metadata": {
    "colab": {
      "provenance": [],
      "mount_file_id": "18MfB_lk8mxkh88aB_EE6ASA0eheSp9DN",
      "authorship_tag": "ABX9TyPvkGdbuoSlvV7ZJ2Be/jDq",
      "include_colab_link": true
    },
    "kernelspec": {
      "name": "python3",
      "display_name": "Python 3"
    },
    "language_info": {
      "name": "python"
    }
  },
  "cells": [
    {
      "cell_type": "markdown",
      "metadata": {
        "id": "view-in-github",
        "colab_type": "text"
      },
      "source": [
        "<a href=\"https://colab.research.google.com/github/mohamedfadul/DeepSearch-Finding-Truncated-Differential-Trails-Using-Genetic-Algorithms-and-Deep-Learning/blob/main/Differential%20Validity%20Model/Val_TWINE_R9_RF_US_DThresh_P2_GitHub.ipynb\" target=\"_parent\"><img src=\"https://colab.research.google.com/assets/colab-badge.svg\" alt=\"Open In Colab\"/></a>"
      ]
    },
    {
      "cell_type": "code",
      "execution_count": null,
      "metadata": {
        "id": "jslTHFtdwCDp"
      },
      "outputs": [],
      "source": [
        "from tensorflow.keras.models import load_model\n",
        "import pandas as pd\n",
        "from tensorflow.keras.models import load_model\n",
        "from sklearn.metrics import confusion_matrix, classification_report\n",
        "import numpy as np\n",
        "import seaborn as sns\n",
        "import matplotlib.pyplot as plt\n",
        "import gdown"
      ]
    },
    {
      "cell_type": "code",
      "source": [
        "!wget -O all_dataset_path.csv \"https://drive.google.com/uc?export=download&id=1UbLgJlLTAEx7rbddtH4QSYUxPwhXib91\""
      ],
      "metadata": {
        "colab": {
          "base_uri": "https://localhost:8080/"
        },
        "id": "8x0tDLPEKmX_",
        "outputId": "8641526d-c643-4bf8-bb61-4effcba66a8b"
      },
      "execution_count": null,
      "outputs": [
        {
          "output_type": "stream",
          "name": "stdout",
          "text": [
            "--2024-11-01 10:19:18--  https://drive.google.com/uc?export=download&id=1UbLgJlLTAEx7rbddtH4QSYUxPwhXib91\n",
            "Resolving drive.google.com (drive.google.com)... 74.125.135.102, 74.125.135.100, 74.125.135.139, ...\n",
            "Connecting to drive.google.com (drive.google.com)|74.125.135.102|:443... connected.\n",
            "HTTP request sent, awaiting response... 303 See Other\n",
            "Location: https://drive.usercontent.google.com/download?id=1UbLgJlLTAEx7rbddtH4QSYUxPwhXib91&export=download [following]\n",
            "--2024-11-01 10:19:18--  https://drive.usercontent.google.com/download?id=1UbLgJlLTAEx7rbddtH4QSYUxPwhXib91&export=download\n",
            "Resolving drive.usercontent.google.com (drive.usercontent.google.com)... 74.125.142.132, 2607:f8b0:400e:c08::84\n",
            "Connecting to drive.usercontent.google.com (drive.usercontent.google.com)|74.125.142.132|:443... connected.\n",
            "HTTP request sent, awaiting response... 200 OK\n",
            "Length: 212830 (208K) [application/octet-stream]\n",
            "Saving to: ‘all_dataset_path.csv’\n",
            "\n",
            "all_dataset_path.cs 100%[===================>] 207.84K  --.-KB/s    in 0.003s  \n",
            "\n",
            "2024-11-01 10:19:20 (59.1 MB/s) - ‘all_dataset_path.csv’ saved [212830/212830]\n",
            "\n"
          ]
        }
      ]
    },
    {
      "cell_type": "code",
      "execution_count": null,
      "metadata": {
        "id": "BTlEKxmZcKV7"
      },
      "outputs": [],
      "source": [
        "all_dataset =pd.read_csv ('all_dataset_path.csv')"
      ]
    },
    {
      "cell_type": "code",
      "source": [
        "# Download the model from Google Drive using gdown\n",
        "model_url = \"https://drive.google.com/uc?export=download&id=1oO5a-X3vgcTH3UXQsLJ0JvXvCybyqhMn\"  # Replace with your actual model file ID\n",
        "\n",
        "model_path = \"validity_phase1_1_undersample_rf_defaulthresh.pkl\"\n",
        "gdown.download(model_url, model_path, quiet=False)"
      ],
      "metadata": {
        "colab": {
          "base_uri": "https://localhost:8080/",
          "height": 105
        },
        "id": "8MtNU9AJtuXU",
        "outputId": "1b476653-4eb0-4408-c98f-0a9bd650b266"
      },
      "execution_count": null,
      "outputs": [
        {
          "output_type": "stream",
          "name": "stderr",
          "text": [
            "Downloading...\n",
            "From: https://drive.google.com/uc?export=download&id=1oO5a-X3vgcTH3UXQsLJ0JvXvCybyqhMn\n",
            "To: /content/validity_phase1_1_undersample_rf_defaulthresh.pkl\n",
            "100%|██████████| 4.23M/4.23M [00:00<00:00, 114MB/s]\n"
          ]
        },
        {
          "output_type": "execute_result",
          "data": {
            "text/plain": [
              "'validity_phase1_1_undersample_rf_defaulthresh.pkl'"
            ],
            "application/vnd.google.colaboratory.intrinsic+json": {
              "type": "string"
            }
          },
          "metadata": {},
          "execution_count": 4
        }
      ]
    },
    {
      "cell_type": "code",
      "source": [
        "import joblib\n",
        "\n",
        "# Load scikit-learn model\n",
        "loaded_model = joblib.load(model_path)\n",
        "print(\"Scikit-learn model loaded successfully!\")"
      ],
      "metadata": {
        "colab": {
          "base_uri": "https://localhost:8080/"
        },
        "outputId": "967eb566-846e-4fae-f4a4-0b509c91467b",
        "id": "vnT-sD8jwCDt"
      },
      "execution_count": null,
      "outputs": [
        {
          "output_type": "stream",
          "name": "stdout",
          "text": [
            "Scikit-learn model loaded successfully!\n"
          ]
        }
      ]
    },
    {
      "cell_type": "code",
      "execution_count": null,
      "metadata": {
        "id": "_8dor8tsZK3y"
      },
      "outputs": [],
      "source": [
        "all_dataset['sboxes'] = ((all_dataset['sboxes']/(all_dataset['round']*8)))\n",
        "all_dataset['round'] = (all_dataset['round'])/100"
      ]
    },
    {
      "cell_type": "code",
      "source": [
        "# Take 50% sample for test data\n",
        "dataset = all_dataset.sample(frac=0.50,random_state=0)\n",
        "test_dataset = all_dataset.drop(dataset.index)"
      ],
      "metadata": {
        "id": "ybZn2FBPDHcu"
      },
      "execution_count": null,
      "outputs": []
    },
    {
      "cell_type": "code",
      "source": [
        "test_labels = test_dataset.pop('validity')"
      ],
      "metadata": {
        "id": "I5M-qPafDY_H"
      },
      "execution_count": null,
      "outputs": []
    },
    {
      "cell_type": "code",
      "source": [
        "# Generate predictions\n",
        "y_preds = loaded_model.predict(test_dataset)\n",
        "y_preds = (y_preds > 0.5).astype(int)  # Binarize predictions\n",
        "\n",
        "# Print classification report and confusion matrix\n",
        "print(\"Classification Report: \\n\", classification_report(test_labels, y_preds))\n",
        "\n",
        "# Confusion matrix\n",
        "conf_matrix = confusion_matrix(test_labels, y_preds)\n",
        "print(\"Confusion Matrix: \\n\", conf_matrix)"
      ],
      "metadata": {
        "id": "DXc1nHjghRu0",
        "colab": {
          "base_uri": "https://localhost:8080/"
        },
        "outputId": "c219b6f9-c3d0-4ee4-93b3-2c9f96681e98"
      },
      "execution_count": null,
      "outputs": [
        {
          "output_type": "stream",
          "name": "stdout",
          "text": [
            "Classification Report: \n",
            "               precision    recall  f1-score   support\n",
            "\n",
            "           0       0.99      0.99      0.99       417\n",
            "           1       0.93      0.96      0.95        83\n",
            "\n",
            "    accuracy                           0.98       500\n",
            "   macro avg       0.96      0.97      0.97       500\n",
            "weighted avg       0.98      0.98      0.98       500\n",
            "\n",
            "Confusion Matrix: \n",
            " [[411   6]\n",
            " [  3  80]]\n"
          ]
        }
      ]
    },
    {
      "cell_type": "code",
      "source": [
        "from sklearn.metrics import confusion_matrix\n",
        "\n",
        "# Confusion matrix\n",
        "conf_matrix = confusion_matrix(test_labels, y_preds)\n",
        "\n",
        "# Plot the confusion matrix with labels\n",
        "plt.figure(figsize=(8, 6))\n",
        "sns.heatmap(conf_matrix, annot=True, fmt=\"d\", cmap=\"Blues\", cbar=False,\n",
        "            xticklabels=[\"Predicted 0\", \"Predicted 1\"], yticklabels=[\"Actual 0\", \"Actual 1\"])\n",
        "plt.xlabel(\"Predicted Label\")\n",
        "plt.ylabel(\"True Label\")\n",
        "plt.title(\"Confusion Matrix\")\n",
        "plt.show()\n",
        "\n",
        "# Print details for each class\n",
        "tn, fp, fn, tp = conf_matrix.ravel()\n",
        "print(f\"True Negatives (Class 0 predicted correctly): {tn}\")\n",
        "print(f\"False Positives (Class 0 incorrectly predicted as Class 1): {fp}\")\n",
        "print(f\"False Negatives (Class 1 incorrectly predicted as Class 0): {fn}\")\n",
        "print(f\"True Positives (Class 1 predicted correctly): {tp}\")\n"
      ],
      "metadata": {
        "id": "vTft15-Bq9oV",
        "colab": {
          "base_uri": "https://localhost:8080/",
          "height": 633
        },
        "outputId": "29d2ae95-f411-4af2-df9a-7e975b3c1d0d"
      },
      "execution_count": null,
      "outputs": [
        {
          "output_type": "display_data",
          "data": {
            "text/plain": [
              "<Figure size 800x600 with 1 Axes>"
            ],
            "image/png": "[encoded data removed]"
          },
          "metadata": {}
        },
        {
          "output_type": "stream",
          "name": "stdout",
          "text": [
            "True Negatives (Class 0 predicted correctly): 411\n",
            "False Positives (Class 0 incorrectly predicted as Class 1): 6\n",
            "False Negatives (Class 1 incorrectly predicted as Class 0): 3\n",
            "True Positives (Class 1 predicted correctly): 80\n"
          ]
        }
      ]
    }
  ]
}