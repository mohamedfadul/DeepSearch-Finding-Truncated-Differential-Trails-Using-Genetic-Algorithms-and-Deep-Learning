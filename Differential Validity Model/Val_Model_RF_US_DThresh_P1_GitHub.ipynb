{
  "nbformat": 4,
  "nbformat_minor": 0,
  "metadata": {
    "colab": {
      "provenance": [],
      "mount_file_id": "1z5-COyNJZrJ3DM-ihU3m8Y3VX9zTkkXY",
      "authorship_tag": "ABX9TyMeGXw1dZrAy13ZNEH8PExP",
      "include_colab_link": true
    },
    "kernelspec": {
      "name": "python3",
      "display_name": "Python 3"
    },
    "language_info": {
      "name": "python"
    }
  },
  "cells": [
    {
      "cell_type": "markdown",
      "metadata": {
        "id": "view-in-github",
        "colab_type": "text"
      },
      "source": [
        "<a href=\"https://colab.research.google.com/github/mohamedfadul/DeepSearch-Finding-Truncated-Differential-Trails-Using-Genetic-Algorithms-and-Deep-Learning/blob/main/Differential%20Validity%20Model/Val_Model_RF_US_DThresh_P1_GitHub.ipynb\" target=\"_parent\"><img src=\"https://colab.research.google.com/assets/colab-badge.svg\" alt=\"Open In Colab\"/></a>"
      ]
    },
    {
      "cell_type": "code",
      "execution_count": null,
      "metadata": {
        "colab": {
          "base_uri": "https://localhost:8080/",
          "height": 1000
        },
        "id": "bX_Mu5piqg9n",
        "outputId": "e81e570e-de29-4397-ba3a-c7804a3ce6c6"
      },
      "outputs": [
        {
          "output_type": "stream",
          "name": "stdout",
          "text": [
            "--2024-11-01 08:42:05--  https://drive.google.com/uc?export=download&id=1vG2C0PM3MXz7p_v5zMSjvodRsK6hbrnz\n",
            "Resolving drive.google.com (drive.google.com)... 108.177.121.138, 108.177.121.101, 108.177.121.113, ...\n",
            "Connecting to drive.google.com (drive.google.com)|108.177.121.138|:443... connected.\n",
            "HTTP request sent, awaiting response... 303 See Other\n",
            "Location: https://drive.usercontent.google.com/download?id=1vG2C0PM3MXz7p_v5zMSjvodRsK6hbrnz&export=download [following]\n",
            "--2024-11-01 08:42:05--  https://drive.usercontent.google.com/download?id=1vG2C0PM3MXz7p_v5zMSjvodRsK6hbrnz&export=download\n",
            "Resolving drive.usercontent.google.com (drive.usercontent.google.com)... 142.251.183.132, 2607:f8b0:4001:c64::84\n",
            "Connecting to drive.usercontent.google.com (drive.usercontent.google.com)|142.251.183.132|:443... connected.\n",
            "HTTP request sent, awaiting response... 200 OK\n",
            "Length: 2547566 (2.4M) [application/octet-stream]\n",
            "Saving to: ‘all_dataset_path.csv’\n",
            "\n",
            "all_dataset_path.cs 100%[===================>]   2.43M  --.-KB/s    in 0.05s   \n",
            "\n",
            "2024-11-01 08:42:08 (51.2 MB/s) - ‘all_dataset_path.csv’ saved [2547566/2547566]\n",
            "\n",
            "Random under-sampling:\n",
            "validity\n",
            "0    1023\n",
            "1    1023\n",
            "Name: count, dtype: int64\n",
            "Classification Report: \n",
            "               precision    recall  f1-score   support\n",
            "\n",
            "           0       1.00      0.98      0.99       437\n",
            "           1       0.81      0.98      0.88        43\n",
            "\n",
            "    accuracy                           0.98       480\n",
            "   macro avg       0.90      0.98      0.94       480\n",
            "weighted avg       0.98      0.98      0.98       480\n",
            "\n"
          ]
        },
        {
          "output_type": "display_data",
          "data": {
            "text/plain": [
              "<Figure size 800x600 with 1 Axes>"
            ],
            "image/png": "[encoded data removed]"
          },
          "metadata": {}
        },
        {
          "output_type": "stream",
          "name": "stdout",
          "text": [
            "True Negatives (Class 0 predicted correctly): 427\n",
            "False Positives (Class 0 incorrectly predicted as Class 1): 10\n",
            "False Negatives (Class 1 incorrectly predicted as Class 0): 1\n",
            "True Positives (Class 1 predicted correctly): 42\n"
          ]
        }
      ],
      "source": [
        "import pandas as pd\n",
        "from sklearn.ensemble import RandomForestClassifier\n",
        "from sklearn.metrics import classification_report, confusion_matrix\n",
        "from sklearn.model_selection import train_test_split\n",
        "from sklearn.utils import shuffle\n",
        "import seaborn as sns\n",
        "import matplotlib.pyplot as plt\n",
        "\n",
        "# Load the original dataset\n",
        "!wget -O all_dataset_path.csv \"https://drive.google.com/uc?export=download&id=1vG2C0PM3MXz7p_v5zMSjvodRsK6hbrnz\"\n",
        "\n",
        "all_dataset = pd.read_csv ('all_dataset_path.csv')\n",
        "\n",
        "# Normalize the 'sboxes' and 'round' features\n",
        "all_dataset['sboxes'] = all_dataset['sboxes'] / (all_dataset['round'] * 8)\n",
        "all_dataset['round'] = all_dataset['round'] / 100\n",
        "\n",
        "# Split into training and testing datasets\n",
        "dataset = all_dataset.sample(frac=0.96, random_state=0)\n",
        "test_dataset = all_dataset.drop(dataset.index)\n",
        "\n",
        "# Class count for undersampling\n",
        "count_class_0, count_class_1 = dataset.validity.value_counts()\n",
        "\n",
        "# Divide by class\n",
        "df_class_0 = dataset[dataset['validity'] == 0]\n",
        "df_class_1 = dataset[dataset['validity'] == 1]\n",
        "\n",
        "# Undersample majority class (0) to balance the dataset\n",
        "df_class_0_under = df_class_0.sample(count_class_1)\n",
        "train_dataset = pd.concat([df_class_0_under, df_class_1], axis=0)\n",
        "\n",
        "print('Random under-sampling:')\n",
        "print(train_dataset.validity.value_counts())\n",
        "\n",
        "# Separate features and labels\n",
        "X_train = train_dataset.drop(\"validity\", axis=1)\n",
        "y_train = train_dataset[\"validity\"]\n",
        "X_test = test_dataset.drop(\"validity\", axis=1)\n",
        "y_test = test_dataset[\"validity\"]\n",
        "\n",
        "# Define the Random Forest model\n",
        "rf_model = RandomForestClassifier(n_estimators=100, random_state=42, class_weight=\"balanced\")\n",
        "rf_model.fit(X_train, y_train)\n",
        "\n",
        "# Evaluate the model on the test set\n",
        "y_preds = rf_model.predict(X_test)\n",
        "y_preds = (y_preds > 0.5).astype(int)  # Binarize predictions\n",
        "\n",
        "# Display classification report\n",
        "print(\"Classification Report: \\n\", classification_report(y_test, y_preds))\n",
        "\n",
        "# Calculate and plot the confusion matrix\n",
        "conf_matrix = confusion_matrix(y_test, y_preds)\n",
        "plt.figure(figsize=(8, 6))\n",
        "sns.heatmap(conf_matrix, annot=True, fmt=\"d\", cmap=\"Blues\", cbar=False,\n",
        "            xticklabels=[\"Predicted 0\", \"Predicted 1\"], yticklabels=[\"Actual 0\", \"Actual 1\"])\n",
        "plt.xlabel(\"Predicted Label\")\n",
        "plt.ylabel(\"True Label\")\n",
        "plt.title(\"Confusion Matrix\")\n",
        "plt.show()\n",
        "\n",
        "# Print details for each class\n",
        "tn, fp, fn, tp = conf_matrix.ravel()\n",
        "print(f\"True Negatives (Class 0 predicted correctly): {tn}\")\n",
        "print(f\"False Positives (Class 0 incorrectly predicted as Class 1): {fp}\")\n",
        "print(f\"False Negatives (Class 1 incorrectly predicted as Class 0): {fn}\")\n",
        "print(f\"True Positives (Class 1 predicted correctly): {tp}\")"
      ]
    }
  ]
}