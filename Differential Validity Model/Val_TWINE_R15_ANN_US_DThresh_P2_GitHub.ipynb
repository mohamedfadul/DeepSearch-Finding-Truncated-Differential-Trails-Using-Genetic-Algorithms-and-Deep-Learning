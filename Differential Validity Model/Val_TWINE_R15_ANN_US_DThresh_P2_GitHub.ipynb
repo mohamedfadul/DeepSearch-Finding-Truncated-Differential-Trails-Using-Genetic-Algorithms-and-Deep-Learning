{
  "nbformat": 4,
  "nbformat_minor": 0,
  "metadata": {
    "colab": {
      "provenance": [],
      "mount_file_id": "18MfB_lk8mxkh88aB_EE6ASA0eheSp9DN",
      "authorship_tag": "ABX9TyMg1T/002mVEm/81U1ldK2k",
      "include_colab_link": true
    },
    "kernelspec": {
      "name": "python3",
      "display_name": "Python 3"
    },
    "language_info": {
      "name": "python"
    }
  },
  "cells": [
    {
      "cell_type": "markdown",
      "metadata": {
        "id": "view-in-github",
        "colab_type": "text"
      },
      "source": [
        "<a href=\"https://colab.research.google.com/github/mohamedfadul/DeepSearch-Finding-Truncated-Differential-Trails-Using-Genetic-Algorithms-and-Deep-Learning/blob/main/Differential%20Validity%20Model/Val_TWINE_R15_ANN_US_DThresh_P2_GitHub.ipynb\" target=\"_parent\"><img src=\"https://colab.research.google.com/assets/colab-badge.svg\" alt=\"Open In Colab\"/></a>"
      ]
    },
    {
      "cell_type": "code",
      "execution_count": null,
      "metadata": {
        "id": "jslTHFtdwCDp"
      },
      "outputs": [],
      "source": [
        "from tensorflow.keras.models import load_model\n",
        "import pandas as pd\n",
        "from tensorflow.keras.models import load_model\n",
        "from sklearn.metrics import confusion_matrix, classification_report\n",
        "import numpy as np\n",
        "import seaborn as sns\n",
        "import matplotlib.pyplot as plt\n",
        "import gdown"
      ]
    },
    {
      "cell_type": "code",
      "source": [
        "!wget -O all_dataset_path.csv \"https://drive.google.com/uc?export=download&id=12q2SgUC5Q0BEz0qVg5rtlSaivGMsMH74\""
      ],
      "metadata": {
        "colab": {
          "base_uri": "https://localhost:8080/"
        },
        "id": "8x0tDLPEKmX_",
        "outputId": "8e3d6d37-088a-46b5-fef7-64cca2ee917a"
      },
      "execution_count": null,
      "outputs": [
        {
          "output_type": "stream",
          "name": "stdout",
          "text": [
            "--2024-11-01 06:50:41--  https://drive.google.com/uc?export=download&id=12q2SgUC5Q0BEz0qVg5rtlSaivGMsMH74\n",
            "Resolving drive.google.com (drive.google.com)... 142.251.179.138, 142.251.179.113, 142.251.179.139, ...\n",
            "Connecting to drive.google.com (drive.google.com)|142.251.179.138|:443... connected.\n",
            "HTTP request sent, awaiting response... 303 See Other\n",
            "Location: https://drive.usercontent.google.com/download?id=12q2SgUC5Q0BEz0qVg5rtlSaivGMsMH74&export=download [following]\n",
            "--2024-11-01 06:50:41--  https://drive.usercontent.google.com/download?id=12q2SgUC5Q0BEz0qVg5rtlSaivGMsMH74&export=download\n",
            "Resolving drive.usercontent.google.com (drive.usercontent.google.com)... 172.253.115.132, 2607:f8b0:4004:c1f::84\n",
            "Connecting to drive.usercontent.google.com (drive.usercontent.google.com)|172.253.115.132|:443... connected.\n",
            "HTTP request sent, awaiting response... 200 OK\n",
            "Length: 115357 (113K) [application/octet-stream]\n",
            "Saving to: ‘all_dataset_path.csv’\n",
            "\n",
            "all_dataset_path.cs 100%[===================>] 112.65K  --.-KB/s    in 0.01s   \n",
            "\n",
            "2024-11-01 06:50:44 (10.6 MB/s) - ‘all_dataset_path.csv’ saved [115357/115357]\n",
            "\n"
          ]
        }
      ]
    },
    {
      "cell_type": "code",
      "execution_count": null,
      "metadata": {
        "id": "BTlEKxmZcKV7"
      },
      "outputs": [],
      "source": [
        "test_dataset =pd.read_csv ('all_dataset_path.csv')"
      ]
    },
    {
      "cell_type": "code",
      "source": [
        "# Download the model from Google Drive using gdown\n",
        "model_url = \"https://drive.google.com/uc?export=download&id=1-Q2WvW0PanutiLoJDul2dB4PKHHOV7Cq\"  # Replace with your actual model file ID\n",
        "\n",
        "model_path = \"validity_phase1_1_undersample_ann_defaulthresh.h5\"\n",
        "gdown.download(model_url, model_path, quiet=False)"
      ],
      "metadata": {
        "colab": {
          "base_uri": "https://localhost:8080/",
          "height": 105
        },
        "id": "8MtNU9AJtuXU",
        "outputId": "4b96e3d3-b219-433d-d103-df80f88830f4"
      },
      "execution_count": null,
      "outputs": [
        {
          "output_type": "stream",
          "name": "stderr",
          "text": [
            "Downloading...\n",
            "From: https://drive.google.com/uc?export=download&id=1-Q2WvW0PanutiLoJDul2dB4PKHHOV7Cq\n",
            "To: /content/validity_phase1_1_undersample_ann_defaulthresh.h5\n",
            "100%|██████████| 9.82M/9.82M [00:00<00:00, 78.4MB/s]\n"
          ]
        },
        {
          "output_type": "execute_result",
          "data": {
            "text/plain": [
              "'validity_phase1_1_undersample_ann_defaulthresh.h5'"
            ],
            "application/vnd.google.colaboratory.intrinsic+json": {
              "type": "string"
            }
          },
          "metadata": {},
          "execution_count": 12
        }
      ]
    },
    {
      "cell_type": "code",
      "source": [
        "# Load the model\n",
        "loaded_model = load_model(model_path)"
      ],
      "metadata": {
        "colab": {
          "base_uri": "https://localhost:8080/"
        },
        "outputId": "3db66e1b-e001-40ab-9222-5139a54dc6e9",
        "id": "vnT-sD8jwCDt"
      },
      "execution_count": null,
      "outputs": [
        {
          "output_type": "stream",
          "name": "stderr",
          "text": [
            "WARNING:absl:Compiled the loaded model, but the compiled metrics have yet to be built. `model.compile_metrics` will be empty until you train or evaluate the model.\n"
          ]
        }
      ]
    },
    {
      "cell_type": "code",
      "source": [
        "test_labels = test_dataset.pop('validity')"
      ],
      "metadata": {
        "id": "QPHz5N0F2RE6"
      },
      "execution_count": null,
      "outputs": []
    },
    {
      "cell_type": "code",
      "execution_count": null,
      "metadata": {
        "id": "Dada87UmQP9F"
      },
      "outputs": [],
      "source": [
        "test_dataset['sboxes'] = ((test_dataset['sboxes']/(test_dataset['round']*8)))\n",
        "test_dataset['round'] = (test_dataset['round'])/100"
      ]
    },
    {
      "cell_type": "code",
      "source": [
        "# Generate predictions\n",
        "y_preds = loaded_model.predict(test_dataset)\n",
        "y_preds = (y_preds > 0.5).astype(int)  # Binarize predictions\n",
        "\n",
        "# Print classification report and confusion matrix\n",
        "print(\"Classification Report: \\n\", classification_report(test_labels, y_preds))\n",
        "\n",
        "# Confusion matrix\n",
        "conf_matrix = confusion_matrix(test_labels, y_preds)\n",
        "print(\"Confusion Matrix: \\n\", conf_matrix)"
      ],
      "metadata": {
        "id": "DXc1nHjghRu0",
        "colab": {
          "base_uri": "https://localhost:8080/"
        },
        "outputId": "e83df5fc-e7f3-4d43-a280-66085079fd08"
      },
      "execution_count": null,
      "outputs": [
        {
          "output_type": "stream",
          "name": "stdout",
          "text": [
            "\u001b[1m17/17\u001b[0m \u001b[32m━━━━━━━━━━━━━━━━━━━━\u001b[0m\u001b[37m\u001b[0m \u001b[1m0s\u001b[0m 10ms/step\n",
            "Classification Report: \n",
            "               precision    recall  f1-score   support\n",
            "\n",
            "           0       0.93      0.99      0.96       432\n",
            "           1       0.96      0.70      0.81       106\n",
            "\n",
            "    accuracy                           0.93       538\n",
            "   macro avg       0.95      0.85      0.88       538\n",
            "weighted avg       0.94      0.93      0.93       538\n",
            "\n",
            "Confusion Matrix: \n",
            " [[429   3]\n",
            " [ 32  74]]\n"
          ]
        }
      ]
    },
    {
      "cell_type": "code",
      "source": [
        "from sklearn.metrics import confusion_matrix\n",
        "\n",
        "# Confusion matrix\n",
        "conf_matrix = confusion_matrix(test_labels, y_preds)\n",
        "\n",
        "# Plot the confusion matrix with labels\n",
        "plt.figure(figsize=(8, 6))\n",
        "sns.heatmap(conf_matrix, annot=True, fmt=\"d\", cmap=\"Blues\", cbar=False,\n",
        "            xticklabels=[\"Predicted 0\", \"Predicted 1\"], yticklabels=[\"Actual 0\", \"Actual 1\"])\n",
        "plt.xlabel(\"Predicted Label\")\n",
        "plt.ylabel(\"True Label\")\n",
        "plt.title(\"Confusion Matrix\")\n",
        "plt.show()\n",
        "\n",
        "# Print details for each class\n",
        "tn, fp, fn, tp = conf_matrix.ravel()\n",
        "print(f\"True Negatives (Class 0 predicted correctly): {tn}\")\n",
        "print(f\"False Positives (Class 0 incorrectly predicted as Class 1): {fp}\")\n",
        "print(f\"False Negatives (Class 1 incorrectly predicted as Class 0): {fn}\")\n",
        "print(f\"True Positives (Class 1 predicted correctly): {tp}\")\n"
      ],
      "metadata": {
        "id": "vTft15-Bq9oV",
        "colab": {
          "base_uri": "https://localhost:8080/",
          "height": 633
        },
        "outputId": "b35d17bf-a421-4523-c96a-6e5a8db6d8e4"
      },
      "execution_count": null,
      "outputs": [
        {
          "output_type": "display_data",
          "data": {
            "text/plain": [
              "<Figure size 800x600 with 1 Axes>"
            ],
            "image/png": "[encoded data removed]"
          },
          "metadata": {}
        },
        {
          "output_type": "stream",
          "name": "stdout",
          "text": [
            "True Negatives (Class 0 predicted correctly): 429\n",
            "False Positives (Class 0 incorrectly predicted as Class 1): 3\n",
            "False Negatives (Class 1 incorrectly predicted as Class 0): 32\n",
            "True Positives (Class 1 predicted correctly): 74\n"
          ]
        }
      ]
    }
  ]
}