{
  "nbformat": 4,
  "nbformat_minor": 0,
  "metadata": {
    "colab": {
      "provenance": [],
      "mount_file_id": "1jMyaUexvi7sNgqSIcfTpS5bytpPYmdWt",
      "authorship_tag": "ABX9TyP/1sqUNWHZIg0T+P7/ghEU",
      "include_colab_link": true
    },
    "kernelspec": {
      "name": "python3",
      "display_name": "Python 3"
    },
    "language_info": {
      "name": "python"
    }
  },
  "cells": [
    {
      "cell_type": "markdown",
      "metadata": {
        "id": "view-in-github",
        "colab_type": "text"
      },
      "source": [
        "<a href=\"https://colab.research.google.com/github/mohamedfadul/DeepSearch-Finding-Truncated-Differential-Trails-Using-Genetic-Algorithms-and-Deep-Learning/blob/main/Differential%20Validity%20Model/Val_Perm5_R15_ANN_US_DThresh_P2_GitHub.ipynb\" target=\"_parent\"><img src=\"https://colab.research.google.com/assets/colab-badge.svg\" alt=\"Open In Colab\"/></a>"
      ]
    },
    {
      "cell_type": "code",
      "execution_count": null,
      "metadata": {
        "id": "VY9ka1yAgPsl"
      },
      "outputs": [],
      "source": [
        "from tensorflow.keras.models import load_model\n",
        "import pandas as pd\n",
        "from tensorflow.keras.models import load_model\n",
        "from sklearn.metrics import confusion_matrix, classification_report\n",
        "import numpy as np\n",
        "import seaborn as sns\n",
        "import matplotlib.pyplot as plt\n",
        "import gdown"
      ]
    },
    {
      "cell_type": "code",
      "source": [
        "!wget -O all_dataset_path.csv \"https://drive.google.com/uc?export=download&id=14B7nCv7VKI-ZqmFzNl1_C-SqSI2RvOHM\""
      ],
      "metadata": {
        "colab": {
          "base_uri": "https://localhost:8080/"
        },
        "id": "8x0tDLPEKmX_",
        "outputId": "c70038f6-f35d-4801-eae3-636240978d6d"
      },
      "execution_count": null,
      "outputs": [
        {
          "output_type": "stream",
          "name": "stdout",
          "text": [
            "--2024-11-01 06:44:48--  https://drive.google.com/uc?export=download&id=14B7nCv7VKI-ZqmFzNl1_C-SqSI2RvOHM\n",
            "Resolving drive.google.com (drive.google.com)... 142.250.98.139, 142.250.98.113, 142.250.98.101, ...\n",
            "Connecting to drive.google.com (drive.google.com)|142.250.98.139|:443... connected.\n",
            "HTTP request sent, awaiting response... 303 See Other\n",
            "Location: https://drive.usercontent.google.com/download?id=14B7nCv7VKI-ZqmFzNl1_C-SqSI2RvOHM&export=download [following]\n",
            "--2024-11-01 06:44:48--  https://drive.usercontent.google.com/download?id=14B7nCv7VKI-ZqmFzNl1_C-SqSI2RvOHM&export=download\n",
            "Resolving drive.usercontent.google.com (drive.usercontent.google.com)... 108.177.12.132, 2607:f8b0:400c:c07::84\n",
            "Connecting to drive.usercontent.google.com (drive.usercontent.google.com)|108.177.12.132|:443... connected.\n",
            "HTTP request sent, awaiting response... 200 OK\n",
            "Length: 232882 (227K) [application/octet-stream]\n",
            "Saving to: ‘all_dataset_path.csv’\n",
            "\n",
            "all_dataset_path.cs 100%[===================>] 227.42K  --.-KB/s    in 0.003s  \n",
            "\n",
            "2024-11-01 06:44:50 (64.3 MB/s) - ‘all_dataset_path.csv’ saved [232882/232882]\n",
            "\n"
          ]
        }
      ]
    },
    {
      "cell_type": "code",
      "execution_count": null,
      "metadata": {
        "id": "BTlEKxmZcKV7"
      },
      "outputs": [],
      "source": [
        "all_dataset =pd.read_csv ('all_dataset_path.csv')"
      ]
    },
    {
      "cell_type": "code",
      "source": [
        "# Download the model from Google Drive using gdown\n",
        "model_url = \"https://drive.google.com/uc?export=download&id=1-Q2WvW0PanutiLoJDul2dB4PKHHOV7Cq\"  # Replace with your actual model file ID\n",
        "\n",
        "model_path = \"validity_phase1_1_undersample_ann_defaulthresh.h5\"\n",
        "gdown.download(model_url, model_path, quiet=False)\n"
      ],
      "metadata": {
        "colab": {
          "base_uri": "https://localhost:8080/",
          "height": 105
        },
        "id": "8MtNU9AJtuXU",
        "outputId": "702344ee-49ac-4b01-e87c-d6dfcee3417f"
      },
      "execution_count": null,
      "outputs": [
        {
          "output_type": "stream",
          "name": "stderr",
          "text": [
            "Downloading...\n",
            "From: https://drive.google.com/uc?export=download&id=1-Q2WvW0PanutiLoJDul2dB4PKHHOV7Cq\n",
            "To: /content/validity_phase1_1_undersample_ann_defaulthresh.h5\n",
            "100%|██████████| 9.82M/9.82M [00:00<00:00, 91.5MB/s]\n"
          ]
        },
        {
          "output_type": "execute_result",
          "data": {
            "text/plain": [
              "'validity_phase1_1_undersample_ann_defaulthresh.h5'"
            ],
            "application/vnd.google.colaboratory.intrinsic+json": {
              "type": "string"
            }
          },
          "metadata": {},
          "execution_count": 4
        }
      ]
    },
    {
      "cell_type": "code",
      "source": [
        "# Load the model\n",
        "loaded_model = load_model(model_path)"
      ],
      "metadata": {
        "colab": {
          "base_uri": "https://localhost:8080/"
        },
        "id": "bhILz4zniEQt",
        "outputId": "44f5cb68-d546-46b9-8baf-995b3c185653"
      },
      "execution_count": null,
      "outputs": [
        {
          "output_type": "stream",
          "name": "stderr",
          "text": [
            "WARNING:absl:Compiled the loaded model, but the compiled metrics have yet to be built. `model.compile_metrics` will be empty until you train or evaluate the model.\n"
          ]
        }
      ]
    },
    {
      "cell_type": "code",
      "execution_count": null,
      "metadata": {
        "id": "_8dor8tsZK3y"
      },
      "outputs": [],
      "source": [
        "all_dataset['sboxes'] = ((all_dataset['sboxes']/(all_dataset['round']*8)))\n",
        "all_dataset['round'] = (all_dataset['round'])/100"
      ]
    },
    {
      "cell_type": "code",
      "source": [
        "# Take 50% sample for test data\n",
        "dataset = all_dataset.sample(frac=0.50,random_state=0)\n",
        "test_dataset = all_dataset.drop(dataset.index)"
      ],
      "metadata": {
        "id": "ybZn2FBPDHcu"
      },
      "execution_count": null,
      "outputs": []
    },
    {
      "cell_type": "code",
      "source": [
        "test_labels = test_dataset.pop('validity')"
      ],
      "metadata": {
        "id": "I5M-qPafDY_H"
      },
      "execution_count": null,
      "outputs": []
    },
    {
      "cell_type": "code",
      "source": [
        "# Generate predictions\n",
        "y_preds = loaded_model.predict(test_dataset)\n",
        "y_preds = (y_preds > 0.5).astype(int)  # Binarize predictions\n",
        "\n",
        "# Print classification report and confusion matrix\n",
        "print(\"Classification Report: \\n\", classification_report(test_labels, y_preds))\n",
        "\n",
        "# Confusion matrix\n",
        "conf_matrix = confusion_matrix(test_labels, y_preds)\n",
        "print(\"Confusion Matrix: \\n\", conf_matrix)"
      ],
      "metadata": {
        "colab": {
          "base_uri": "https://localhost:8080/"
        },
        "id": "DXc1nHjghRu0",
        "outputId": "23f12261-735d-4f88-ac6c-03c83952b510"
      },
      "execution_count": null,
      "outputs": [
        {
          "output_type": "stream",
          "name": "stdout",
          "text": [
            "\u001b[1m17/17\u001b[0m \u001b[32m━━━━━━━━━━━━━━━━━━━━\u001b[0m\u001b[37m\u001b[0m \u001b[1m1s\u001b[0m 8ms/step\n",
            "Classification Report: \n",
            "               precision    recall  f1-score   support\n",
            "\n",
            "           0       0.95      1.00      0.98       457\n",
            "           1       0.98      0.75      0.85        87\n",
            "\n",
            "    accuracy                           0.96       544\n",
            "   macro avg       0.97      0.87      0.91       544\n",
            "weighted avg       0.96      0.96      0.96       544\n",
            "\n",
            "Confusion Matrix: \n",
            " [[456   1]\n",
            " [ 22  65]]\n"
          ]
        }
      ]
    },
    {
      "cell_type": "code",
      "source": [
        "from sklearn.metrics import confusion_matrix\n",
        "\n",
        "# Confusion matrix\n",
        "conf_matrix = confusion_matrix(test_labels, y_preds)\n",
        "\n",
        "# Plot the confusion matrix with labels\n",
        "plt.figure(figsize=(8, 6))\n",
        "sns.heatmap(conf_matrix, annot=True, fmt=\"d\", cmap=\"Blues\", cbar=False,\n",
        "            xticklabels=[\"Predicted 0\", \"Predicted 1\"], yticklabels=[\"Actual 0\", \"Actual 1\"])\n",
        "plt.xlabel(\"Predicted Label\")\n",
        "plt.ylabel(\"True Label\")\n",
        "plt.title(\"Confusion Matrix\")\n",
        "plt.show()\n",
        "\n",
        "# Print details for each class\n",
        "tn, fp, fn, tp = conf_matrix.ravel()\n",
        "print(f\"True Negatives (Class 0 predicted correctly): {tn}\")\n",
        "print(f\"False Positives (Class 0 incorrectly predicted as Class 1): {fp}\")\n",
        "print(f\"False Negatives (Class 1 incorrectly predicted as Class 0): {fn}\")\n",
        "print(f\"True Positives (Class 1 predicted correctly): {tp}\")\n"
      ],
      "metadata": {
        "colab": {
          "base_uri": "https://localhost:8080/",
          "height": 633
        },
        "id": "vTft15-Bq9oV",
        "outputId": "356e4328-55cd-4076-faca-04c5c60903d8"
      },
      "execution_count": null,
      "outputs": [
        {
          "output_type": "display_data",
          "data": {
            "text/plain": [
              "<Figure size 800x600 with 1 Axes>"
            ],
            "image/png": "[encoded data removed]"
          },
          "metadata": {}
        },
        {
          "output_type": "stream",
          "name": "stdout",
          "text": [
            "True Negatives (Class 0 predicted correctly): 456\n",
            "False Positives (Class 0 incorrectly predicted as Class 1): 1\n",
            "False Negatives (Class 1 incorrectly predicted as Class 0): 22\n",
            "True Positives (Class 1 predicted correctly): 65\n"
          ]
        }
      ]
    }
  ]
}